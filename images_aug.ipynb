{
 "cells": [
  {
   "cell_type": "code",
   "execution_count": 2,
   "metadata": {},
   "outputs": [],
   "source": [
    "import cv2\n",
    "import numpy as np"
   ]
  },
  {
   "cell_type": "code",
   "execution_count": 3,
   "metadata": {},
   "outputs": [],
   "source": [
    "def show_image(image_to_show):\n",
    "    cv2.imshow('{}'.format(image_to_show.shape), image_to_show)\n",
    "    cv2.waitKey(0)\n",
    "    cv2.destroyAllWindows()"
   ]
  },
  {
   "cell_type": "code",
   "execution_count": 4,
   "metadata": {},
   "outputs": [],
   "source": [
    "class Resize(object):\n",
    "    def __init__(self, output_size):\n",
    "        self.output_size = output_size\n",
    "\n",
    "    def __call__(self, X):\n",
    "        _X = cv2.resize(X, self.output_size)\n",
    "        w, h = self.output_size\n",
    "        return _X\n",
    "    \n",
    "    \n",
    "class Clip(object):\n",
    "    def __init__(self, mini, maxi=None):\n",
    "        if maxi is None:\n",
    "            self.mini, self.maxi = 0, mini\n",
    "        else:\n",
    "            self.mini, self.maxi = mini, maxi\n",
    "\n",
    "    def __call__(self, X):\n",
    "        mini_mask = np.where(X < self.mini)\n",
    "        maxi_mask = np.where(X > self.maxi)\n",
    "        X[mini_mask] = self.mini\n",
    "        X[maxi_mask] = self.maxi\n",
    "        return X\n",
    "    \n",
    "    \n",
    "class Normalize(object):\n",
    "    def __init__(self, axis=None):\n",
    "        self.axis = axis\n",
    "\n",
    "    def __call__(self, X):\n",
    "        mini = np.min(X, self.axis)\n",
    "        maxi = np.max(X, self.axis)\n",
    "        X = (X - mini) / (maxi - mini)\n",
    "        return X\n",
    "\n",
    "    \n",
    "class Standardize(object):\n",
    "    def __init__(self, axis=None):\n",
    "        self.axis = axis\n",
    "\n",
    "    def __call__(self, X):\n",
    "        mean =  np.mean(X, self.axis)\n",
    "        std = np.std(X, self.axis)\n",
    "        X = (X - mean) / std\n",
    "        return X   \n",
    "    \n",
    "    \n",
    "class Flip(object):\n",
    "    def __call__(self, X):\n",
    "        for axis in [0, 1]:\n",
    "            if np.random.rand(1) < 0.5:\n",
    "                X = np.flip(X, axis)\n",
    "        return X\n",
    "    \n",
    "    \n",
    "class Crop(object):\n",
    "    def __init__(self, min_size_ratio, max_size_ratio=(1, 1)):\n",
    "        self.min_size_ratio = np.array(list(min_size_ratio))\n",
    "        self.max_size_ratio = np.array(list(max_size_ratio))\n",
    "\n",
    "    def __call__(self, X):\n",
    "        size = np.array(X.shape[:2])\n",
    "        mini = self.min_size_ratio * size\n",
    "        maxi = self.max_size_ratio * size\n",
    "\n",
    "        h = np.random.randint(mini[0], maxi[0])\n",
    "        w = np.random.randint(mini[1], maxi[1])\n",
    "\n",
    "        shift_h = np.random.randint(0, size[0] - h)\n",
    "        shift_w = np.random.randint(0, size[1] - w)\n",
    "        X = X[shift_h:shift_h+h, shift_w:shift_w+w]\n",
    "\n",
    "        return X\n",
    "    \n",
    "\n",
    "class Sharpen(object):\n",
    "    def __init__(self, max_center=20):\n",
    "        self.identity = np.array([[0, 0, 0],\n",
    "                                  [0, 1, 0],\n",
    "                                  [0, 0, 0]])\n",
    "        self.sharpen = np.array([[ 0, -1,  0],\n",
    "                                 [-1,  4, -1],\n",
    "                                 [ 0, -1,  0]]) / 4\n",
    "        self.max_center = max_center\n",
    "\n",
    "    def __call__(self, X):\n",
    "\n",
    "        sharp = self.sharpen * np.random.random() * self.max_center\n",
    "        kernel = self.identity + sharp\n",
    "\n",
    "        X = cv2.filter2D(X, -1, kernel)\n",
    "        return X\n",
    "    \n",
    "    \n",
    "class GaussianBlur(object):\n",
    "    def __init__(self, max_kernel=(7, 7)):\n",
    "        self.max_kernel = max_kernel\n",
    "\n",
    "    def __call__(self, X):\n",
    "        kernel_size = (\n",
    "            np.random.randint(1, self.max_kernel[0]) * 2 + 1,\n",
    "            np.random.randint(1, self.max_kernel[1]) * 2 + 1,\n",
    "        )\n",
    "        X = cv2.GaussianBlur(X, kernel_size, 0)\n",
    "        return X\n",
    "    \n",
    "    \n",
    "def increase_brightness(img, value=30):\n",
    "    hsv = cv2.cvtColor(img, cv2.COLOR_BGR2HSV)\n",
    "    h, s, v = cv2.split(hsv)\n",
    "\n",
    "    lim = 255 - value\n",
    "    v[v > lim] = 255\n",
    "    v[v <= lim] += value\n",
    "\n",
    "    final_hsv = cv2.merge((h, s, v))\n",
    "    img = cv2.cvtColor(final_hsv, cv2.COLOR_HSV2BGR)\n",
    "    return img\n",
    "\n",
    "\n",
    "class UniformNoise(object):\n",
    "    def __init__(self, low=-50, high=50):\n",
    "        self.low = low\n",
    "        self.high = high\n",
    "\n",
    "    def __call__(self, X):\n",
    "        noise = np.random.randint(self.low, self.high, X.shape)\n",
    "        noise = noise.astype(int)\n",
    "        X = X + noise\n",
    "        X[X < 0] = 0\n",
    "        X[X > 255] = 255\n",
    "        return X\n",
    "    \n",
    "    \n",
    "class GaussianNoise(object):\n",
    "    def __init__(self, center=0, std=50):\n",
    "        self.center = center\n",
    "        self.std = std\n",
    "\n",
    "    def __call__(self, X):\n",
    "        noise = np.random.normal(self.center, self.std, X.shape)\n",
    "        X = X + noise\n",
    "        X[X < 0] = 0\n",
    "        X[X > 255] = 255\n",
    "        return X\n",
    "    \n",
    "    \n",
    "def rotate_func(im_1, angle):\n",
    "    h, w = im_1.shape[:2]\n",
    "    center = (w/2, h/2)\n",
    "    rotate_matrix = cv2.getRotationMatrix2D(center, angle=angle, scale=1)\n",
    "    return cv2.warpAffine(im_1, rotate_matrix, dsize=(w, h))\n",
    "\n"
   ]
  },
  {
   "cell_type": "code",
   "execution_count": 5,
   "metadata": {},
   "outputs": [],
   "source": [
    "im_1 = cv2.imread('123.jpg')\n",
    "\n",
    "show_image(im_1)"
   ]
  },
  {
   "cell_type": "code",
   "execution_count": null,
   "metadata": {},
   "outputs": [],
   "source": [
    "outp_size = [200, 200]\n",
    "\n",
    "resize_ = Resize(outp_size)\n",
    "\n",
    "im_1_r = resize_.__call__(im_1)"
   ]
  },
  {
   "cell_type": "code",
   "execution_count": null,
   "metadata": {},
   "outputs": [],
   "source": [
    "min_ = 0\n",
    "max_ = 50\n",
    "\n",
    "clip_ = Clip(min_, max_)\n",
    "im_1_c = clip_.__call__(im_1)\n",
    "\n",
    "show_image(im_1_c)"
   ]
  },
  {
   "cell_type": "code",
   "execution_count": null,
   "metadata": {},
   "outputs": [],
   "source": [
    "norm_ = Normalize()\n",
    "\n",
    "im_1_norm = clip_.__call__(im_1)\n",
    "show_image(im_1_norm)"
   ]
  },
  {
   "cell_type": "code",
   "execution_count": null,
   "metadata": {},
   "outputs": [],
   "source": [
    "stand_ = Standardize()\n",
    "\n",
    "im_1_std = clip_.__call__(im_1)\n",
    "\n",
    "show_image(im_1_std)"
   ]
  },
  {
   "cell_type": "code",
   "execution_count": null,
   "metadata": {},
   "outputs": [],
   "source": [
    "flip_ = Flip()\n",
    "\n",
    "im_1_f = flip_.__call__(im_1)\n",
    "\n",
    "show_image(im_1_f)"
   ]
  },
  {
   "cell_type": "code",
   "execution_count": null,
   "metadata": {},
   "outputs": [],
   "source": [
    "crop_ = Crop((0.7, 0.7))\n",
    "\n",
    "im_1_cr = crop_(im_1)\n",
    "\n",
    "show_image(im_1_cr)"
   ]
  },
  {
   "cell_type": "code",
   "execution_count": null,
   "metadata": {},
   "outputs": [],
   "source": [
    "sharp_ = Sharpen(max_center=25)\n",
    "\n",
    "im_1_sh = sharp_(im_1)\n",
    "\n",
    "show_image(im_1_sh)"
   ]
  },
  {
   "cell_type": "code",
   "execution_count": null,
   "metadata": {},
   "outputs": [],
   "source": [
    "max_kernel = (25, 25)\n",
    "blur_ = GaussianBlur(max_kernel)\n",
    "\n",
    "im_1_bl = blur_(im_1)\n",
    "\n",
    "show_image(im_1_bl)"
   ]
  },
  {
   "cell_type": "code",
   "execution_count": null,
   "metadata": {},
   "outputs": [],
   "source": [
    "im_1_br = increase_brightness(im_1, value=50)\n",
    "show_image(im_1_br)"
   ]
  },
  {
   "cell_type": "code",
   "execution_count": 10,
   "metadata": {},
   "outputs": [],
   "source": [
    "# ???????????????????\n",
    "class Contrast(object):\n",
    "    def __init__(self, range_contrast=(-50, 50)):\n",
    "        self.range_contrast = range_contrast\n",
    "\n",
    "    def __call__(self, X):\n",
    "        contrast = np.random.randint(*self.range_contrast)\n",
    "        X = X * (contrast / 127 + 1) - contrast\n",
    "        return X"
   ]
  },
  {
   "cell_type": "code",
   "execution_count": 13,
   "metadata": {},
   "outputs": [],
   "source": [
    "contr_ = Contrast(range_contrast=(-50, 50))\n",
    "\n",
    "im_1_contr = contr_(im_1)\n",
    "\n",
    "show_image(im_1_contr)"
   ]
  },
  {
   "cell_type": "code",
   "execution_count": 12,
   "metadata": {},
   "outputs": [],
   "source": [
    "uni_noise = UniformNoise(low=-10, high=10)\n",
    "\n",
    "im_1_uni = uni_noise(im_1)\n",
    "im_1_uni = im_1_uni.astype(np.uint8)\n",
    "show_image(im_1_uni)"
   ]
  },
  {
   "cell_type": "code",
   "execution_count": null,
   "metadata": {},
   "outputs": [],
   "source": []
  },
  {
   "cell_type": "code",
   "execution_count": 42,
   "metadata": {},
   "outputs": [],
   "source": []
  },
  {
   "cell_type": "code",
   "execution_count": 43,
   "metadata": {},
   "outputs": [],
   "source": [
    "gaus_noise = GaussianNoise(center=0, std=40)\n",
    "\n",
    "im_1_gaus = gaus_noise(im_1)\n",
    "# im_1_uni = im_1_uni.astype(np.uint8)\n",
    "im_1_gaus = im_1_gaus.astype(np.uint8)\n",
    "show_image(im_1_gaus)"
   ]
  },
  {
   "cell_type": "code",
   "execution_count": null,
   "metadata": {},
   "outputs": [],
   "source": []
  },
  {
   "cell_type": "code",
   "execution_count": 55,
   "metadata": {},
   "outputs": [],
   "source": [
    "class LensDistortion(object):\n",
    "    def __init__(self, d_coef=(0.25, 0.25, 0.1, 0.1, 0.05)):\n",
    "        self.d_coef = np.array(d_coef)\n",
    "\n",
    "    def __call__(self, X):\n",
    "\n",
    "        # get the height and the width of the image\n",
    "        h, w = X.shape[:2]\n",
    "\n",
    "        # compute its diagonal\n",
    "        f = (h ** 2 + w ** 2) ** 0.5\n",
    "\n",
    "        # set the image projective to carrtesian dimension\n",
    "        K = np.array([[f, 0, w / 2],\n",
    "                      [0, f, h / 2],\n",
    "                      [0, 0,     1]])\n",
    "\n",
    "        d_coef = self.d_coef * np.random.random(5) # value\n",
    "        d_coef = d_coef * (2 * (np.random.random(5) < 0.5) - 1) # sign\n",
    "        # Generate new camera matrix from parameters\n",
    "        M, _ = cv2.getOptimalNewCameraMatrix(K, d_coef, (w, h), 0)\n",
    "\n",
    "        # Generate look-up tables for remapping the camera image\n",
    "        remap = cv2.initUndistortRectifyMap(K, d_coef, None, M, (w, h), 5)\n",
    "\n",
    "        # Remap the original image to a new image\n",
    "        X = cv2.remap(X, *remap, cv2.INTER_LINEAR)\n",
    "        return X"
   ]
  },
  {
   "cell_type": "code",
   "execution_count": 52,
   "metadata": {},
   "outputs": [
    {
     "data": {
      "text/plain": [
       "array([0.86533598, 0.80126828, 0.81275173, 0.10935162, 0.66847542])"
      ]
     },
     "execution_count": 52,
     "metadata": {},
     "output_type": "execute_result"
    }
   ],
   "source": [
    "np.random.random(5)"
   ]
  },
  {
   "cell_type": "code",
   "execution_count": 62,
   "metadata": {},
   "outputs": [],
   "source": [
    "lens_dist = LensDistortion()\n",
    "im_1_lens_ = lens_dist(im_1)\n",
    "show_image(im_1_lens_)"
   ]
  },
  {
   "cell_type": "code",
   "execution_count": null,
   "metadata": {},
   "outputs": [],
   "source": []
  },
  {
   "cell_type": "code",
   "execution_count": 87,
   "metadata": {},
   "outputs": [
    {
     "data": {
      "text/plain": [
       "array([ 69.02197368, -35.13404171, 191.83475049])"
      ]
     },
     "execution_count": 87,
     "metadata": {},
     "output_type": "execute_result"
    }
   ],
   "source": [
    "np.random.uniform(-1, 1, 3) * (120, 120, 360)"
   ]
  },
  {
   "cell_type": "code",
   "execution_count": null,
   "metadata": {},
   "outputs": [],
   "source": []
  },
  {
   "cell_type": "code",
   "execution_count": 94,
   "metadata": {},
   "outputs": [],
   "source": [
    "class Perspective(object):\n",
    "    def __init__(self,\n",
    "                 max_ratio_translation=(0.2, 0.2, 0),\n",
    "                 max_rotation=(360, 360, 360),\n",
    "                 max_scale=(0.1, 0.1, 0.2),\n",
    "                 max_shearing=(15, 15, 5)):\n",
    "\n",
    "        self.max_ratio_translation = np.array(max_ratio_translation)\n",
    "        self.max_rotation = np.array(max_rotation)\n",
    "        self.max_scale = np.array(max_scale)\n",
    "        self.max_shearing = np.array(max_shearing)\n",
    "\n",
    "    def __call__(self, X, Y):\n",
    "\n",
    "        # get the height and the width of the image\n",
    "        h, w = X.shape[:2]\n",
    "        max_translation = self.max_ratio_translation * np.array([w, h, 1])\n",
    "        # get the values on each axis\n",
    "        t_x, t_y, t_z = np.random.uniform(-1, 1, 3) * max_translation\n",
    "        r_x, r_y, r_z = np.random.uniform(-1, 1, 3) * self.max_rotation\n",
    "        sc_x, sc_y, sc_z = np.random.uniform(-1, 1, 3) * self.max_scale + 1\n",
    "        sh_x, sh_y, sh_z = np.random.uniform(-1, 1, 3) * self.max_shearing\n",
    "\n",
    "        # convert degree angles to rad\n",
    "        theta_rx = np.deg2rad(r_x)\n",
    "        theta_ry = np.deg2rad(r_y)\n",
    "        theta_rz = np.deg2rad(r_z)\n",
    "        theta_shx = np.deg2rad(sh_x)\n",
    "        theta_shy = np.deg2rad(sh_y)\n",
    "        theta_shz = np.deg2rad(sh_z)\n",
    "\n",
    "\n",
    "        # compute its diagonal\n",
    "        diag = (h ** 2 + w ** 2) ** 0.5\n",
    "        # compute the focal length\n",
    "        f = diag\n",
    "        if np.sin(theta_rz) != 0:\n",
    "            f /= 2 * np.sin(theta_rz)\n",
    "\n",
    "        # set the image from cartesian to projective dimension\n",
    "        H_M = np.array([[1, 0, -w / 2],\n",
    "                        [0, 1, -h / 2],\n",
    "                        [0, 0,      1],\n",
    "                        [0, 0,      1]])\n",
    "        # set the image projective to carrtesian dimension\n",
    "        Hp_M = np.array([[f, 0, w / 2, 0],\n",
    "                         [0, f, h / 2, 0],\n",
    "                         [0, 0,     1, 0]])\n",
    "\n",
    "        # adjust the translation on z\n",
    "        t_z = (f - t_z) / sc_z ** 2\n",
    "        # translation matrix to translate the image\n",
    "        T_M = np.array([[1, 0, 0, t_x],\n",
    "                        [0, 1, 0, t_y],\n",
    "                        [0, 0, 1, t_z],\n",
    "                        [0, 0, 0,  1]])\n",
    "\n",
    "        # calculate cos and sin of angles\n",
    "        sin_rx, cos_rx = np.sin(theta_rx), np.cos(theta_rx)\n",
    "        sin_ry, cos_ry = np.sin(theta_ry), np.cos(theta_ry)\n",
    "        sin_rz, cos_rz = np.sin(theta_rz), np.cos(theta_rz)\n",
    "        # get the rotation matrix on x axis\n",
    "        R_Mx = np.array([[1,      0,       0, 0],\n",
    "                         [0, cos_rx, -sin_rx, 0],\n",
    "                         [0, sin_rx,  cos_rx, 0],\n",
    "                         [0,      0,       0, 1]])\n",
    "        # get the rotation matrix on y axis\n",
    "        R_My = np.array([[cos_ry, 0, -sin_ry, 0],\n",
    "                         [     0, 1,       0, 0],\n",
    "                         [sin_ry, 0,  cos_ry, 0],\n",
    "                         [     0, 0,       0, 1]])\n",
    "        # get the rotation matrix on z axis\n",
    "        R_Mz = np.array([[cos_rz, -sin_rz, 0, 0],\n",
    "                         [sin_rz,  cos_rz, 0, 0],\n",
    "                         [     0,       0, 1, 0],\n",
    "                         [     0,       0, 0, 1]])\n",
    "        # compute the full rotation matrix\n",
    "        R_M = np.dot(np.dot(R_Mx, R_My), R_Mz)\n",
    "\n",
    "        # get the scaling matrix\n",
    "        Sc_M = np.array([[sc_x,     0,    0, 0],\n",
    "                         [   0,  sc_y,    0, 0],\n",
    "                         [   0,     0, sc_z, 0],\n",
    "                         [   0,     0,    0, 1]])\n",
    "\n",
    "        # get the tan of angles\n",
    "        tan_shx = np.tan(theta_shx)\n",
    "        tan_shy = np.tan(theta_shy)\n",
    "        tan_shz = np.tan(theta_shz)\n",
    "        # get the shearing matrix on x axis\n",
    "        Sh_Mx = np.array([[      1, 0, 0, 0],\n",
    "                          [tan_shy, 1, 0, 0],\n",
    "                          [tan_shz, 0, 1, 0],\n",
    "                          [      0, 0, 0, 1]])\n",
    "        # get the shearing matrix on y axis\n",
    "        Sh_My = np.array([[1, tan_shx, 0, 0],\n",
    "                          [0,       1, 0, 0],\n",
    "                          [0, tan_shz, 1, 0],\n",
    "                          [0,       0, 0, 1]])\n",
    "        # get the shearing matrix on z axis\n",
    "        Sh_Mz = np.array([[1, 0, tan_shx, 0],\n",
    "                          [0, 1, tan_shy, 0],\n",
    "                          [0, 0,       1, 0],\n",
    "                          [0, 0,       0, 1]])\n",
    "        # compute the full shearing matrix\n",
    "        Sh_M = np.dot(np.dot(Sh_Mx, Sh_My), Sh_Mz)\n",
    "\n",
    "        Identity = np.array([[1, 0, 0, 0],\n",
    "                             [0, 1, 0, 0],\n",
    "                             [0, 0, 1, 0],\n",
    "                             [0, 0, 0, 1]])\n",
    "\n",
    "        # compute the full transform matrix\n",
    "        M = Identity\n",
    "#         M = np.dot(Sh_M, M)\n",
    "        M = np.dot(R_M,  M)\n",
    "#         M = np.dot(Sc_M, M)\n",
    "#         M = np.dot(T_M,  M)\n",
    "#         M = np.dot(Hp_M, np.dot(M, H_M))\n",
    "        # apply the transformation\n",
    "        X = cv2.warpPerspective(X, M, (w, h))\n",
    "        return X"
   ]
  },
  {
   "cell_type": "code",
   "execution_count": 98,
   "metadata": {},
   "outputs": [],
   "source": [
    "persp = Perspective()\n",
    "im_1_persp = lens_dist(im_1)\n",
    "show_image(im_1_persp)"
   ]
  },
  {
   "cell_type": "code",
   "execution_count": 108,
   "metadata": {},
   "outputs": [],
   "source": [
    "im_1_rot = rotate_func(im_1, angle=-15)\n",
    "show_image(im_1_rot)"
   ]
  },
  {
   "cell_type": "code",
   "execution_count": null,
   "metadata": {},
   "outputs": [],
   "source": []
  },
  {
   "cell_type": "code",
   "execution_count": 114,
   "metadata": {},
   "outputs": [],
   "source": [
    "def translate_func(im_1, x_tr=0.1, y_tr=0.1):\n",
    "    h, w = im_1.shape[:2]\n",
    "    tx, ty = w*x_tr, h*y_tr\n",
    "    translation_matrix = np.array([[1, 0, tx],\n",
    "                                   [0, 1, ty]], dtype=np.float32)\n",
    "    \n",
    "    return cv2.warpAffine(im_1, translation_matrix, dsize=(w, h))"
   ]
  },
  {
   "cell_type": "code",
   "execution_count": 116,
   "metadata": {},
   "outputs": [],
   "source": [
    "im_1_tr = translate_func(im_1, x_tr=0.05, y_tr=-0.05)\n",
    "show_image(im_1_tr)"
   ]
  }
 ],
 "metadata": {
  "kernelspec": {
   "display_name": "Python 3",
   "language": "python",
   "name": "python3"
  },
  "language_info": {
   "codemirror_mode": {
    "name": "ipython",
    "version": 3
   },
   "file_extension": ".py",
   "mimetype": "text/x-python",
   "name": "python",
   "nbconvert_exporter": "python",
   "pygments_lexer": "ipython3",
   "version": "3.8.8"
  }
 },
 "nbformat": 4,
 "nbformat_minor": 2
}
